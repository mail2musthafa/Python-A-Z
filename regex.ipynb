{
 "cells": [
  {
   "cell_type": "code",
   "execution_count": 2,
   "metadata": {},
   "outputs": [
    {
     "name": "stdout",
     "output_type": "stream",
     "text": [
      "welcome\n"
     ]
    }
   ],
   "source": [
    "Regular Expressions:\n"
   ]
  },
  {
   "cell_type": "code",
   "execution_count": 4,
   "metadata": {},
   "outputs": [],
   "source": [
    "# If we want to represent a group of strings according to certain pattern there regular expression module comes in piture "
   ]
  },
  {
   "cell_type": "code",
   "execution_count": 5,
   "metadata": {},
   "outputs": [],
   "source": [
    "#the group mof things follows the perticular pattern  then we go for regular expression \n",
    "# its declarative mechanisim in perticular patten \n",
    "# "
   ]
  },
  {
   "cell_type": "code",
   "execution_count": null,
   "metadata": {},
   "outputs": [],
   "source": [
    "# What are the ge areas used in reg\n",
    "#main impartent application of Regular Expressions \n",
    "1) Validation\n",
    "2) Pttern matching application \n",
    "3) Translater like compilers ,interpreaters ,assembers \n",
    "        Lexical Analysis Syntax analysis or scaning or tokenisation \n",
    "        syntax analsis semantic analysis\n",
    "4) Communication protocals TCP/IP ETC\n",
    "\n",
    "\n"
   ]
  },
  {
   "cell_type": "code",
   "execution_count": 8,
   "metadata": {},
   "outputs": [
    {
     "name": "stdout",
     "output_type": "stream",
     "text": [
      "re.compile('python')\n"
     ]
    }
   ],
   "source": [
    "import re \n",
    "pattern   = re.compile(\"python\")\n",
    "print(pattern)"
   ]
  },
  {
   "cell_type": "code",
   "execution_count": null,
   "metadata": {},
   "outputs": [],
   "source": [
    "#finditer()# to find matches \n",
    "matcher = pattern.finditer('learning regular expression ')\n",
    "# start()#start index of match\n",
    "# end() #end+1 index of match \n",
    "# group()#return the matched string\n",
    "#compile\n",
    "# finditer\n",
    "#start()\n",
    "#end()\n",
    "#group()\n"
   ]
  }
 ],
 "metadata": {
  "kernelspec": {
   "display_name": "base",
   "language": "python",
   "name": "python3"
  },
  "language_info": {
   "codemirror_mode": {
    "name": "ipython",
    "version": 3
   },
   "file_extension": ".py",
   "mimetype": "text/x-python",
   "name": "python",
   "nbconvert_exporter": "python",
   "pygments_lexer": "ipython3",
   "version": "3.8.8"
  }
 },
 "nbformat": 4,
 "nbformat_minor": 2
}
