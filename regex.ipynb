{
 "cells": [
  {
   "cell_type": "code",
   "execution_count": 50,
   "metadata": {},
   "outputs": [
    {
     "ename": "SyntaxError",
     "evalue": "invalid syntax (<ipython-input-50-efce40799d41>, line 1)",
     "output_type": "error",
     "traceback": [
      "\u001b[1;36m  File \u001b[1;32m\"<ipython-input-50-efce40799d41>\"\u001b[1;36m, line \u001b[1;32m1\u001b[0m\n\u001b[1;33m    Regular Expressions:\u001b[0m\n\u001b[1;37m            ^\u001b[0m\n\u001b[1;31mSyntaxError\u001b[0m\u001b[1;31m:\u001b[0m invalid syntax\n"
     ]
    }
   ],
   "source": [
    "Regular Expressions:\n"
   ]
  },
  {
   "cell_type": "code",
   "execution_count": null,
   "metadata": {},
   "outputs": [],
   "source": [
    "# If we want to represent a group of strings according to certain pattern there regular expression module comes in piture "
   ]
  },
  {
   "cell_type": "code",
   "execution_count": null,
   "metadata": {},
   "outputs": [],
   "source": [
    "#the group mof things follows the perticular pattern  then we go for regular expression \n",
    "# its declarative mechanisim in perticular patten \n",
    "# "
   ]
  },
  {
   "cell_type": "code",
   "execution_count": null,
   "metadata": {},
   "outputs": [],
   "source": [
    "# What are the ge areas used in reg\n",
    "#main impartent application of Regular Expressions \n",
    "# 1) Validation\n",
    "# 2) Pttern matching application \n",
    "# 3) Translater like compilers ,interpreaters ,assembers \n",
    "#         Lexical Analysis Syntax analysis or scaning or tokenisation \n",
    "#         syntax analsis semantic analysis\n",
    "# 4) Communication protocals TCP/IP ETC\n",
    "\n",
    "\n"
   ]
  },
  {
   "cell_type": "code",
   "execution_count": null,
   "metadata": {},
   "outputs": [
    {
     "name": "stdout",
     "output_type": "stream",
     "text": [
      "re.compile('python')\n"
     ]
    }
   ],
   "source": [
    "import re \n",
    "pattern   = re.compile(\"python\")\n",
    "print(pattern)"
   ]
  },
  {
   "cell_type": "code",
   "execution_count": null,
   "metadata": {},
   "outputs": [],
   "source": [
    "#finditer()# to find matches \n",
    "matcher = pattern.finditer('learning regular expression ')\n",
    "# start()#start index of match\n",
    "# end() #end+1 index of match \n",
    "# group()#return the matched string\n",
    "#compile\n",
    "# finditer\n",
    "#start()\n",
    "#end()\n",
    "#group()\n"
   ]
  },
  {
   "cell_type": "code",
   "execution_count": null,
   "metadata": {},
   "outputs": [
    {
     "name": "stdout",
     "output_type": "stream",
     "text": [
      "match is available at start index : 0\n",
      "match is available at start index : 3\n",
      "match is available at start index : 9\n",
      "match is available at start index : 11\n",
      "match is available at start index : 20\n",
      "the number of occurence  5\n"
     ]
    }
   ],
   "source": [
    "import re \n",
    "count  = 0\n",
    "pattern= re.compile('ab')\n",
    "matcher = pattern.finditer('abnabnhdgababkijanhbab')\n",
    "for match in matcher:\n",
    "    count+=1\n",
    "    print('match is available at start index :',match.start())\n",
    "print('the number of occurence ',count)    \n"
   ]
  },
  {
   "cell_type": "code",
   "execution_count": null,
   "metadata": {},
   "outputs": [
    {
     "name": "stdout",
     "output_type": "stream",
     "text": [
      "match is available at start index : 0\n",
      "the number of occurence  1\n"
     ]
    }
   ],
   "source": [
    "import re \n",
    "count = 0\n",
    "pattern = re.compile('welcome')\n",
    "matcher = pattern.finditer('welcome to the world of programming')\n",
    "for match in matcher:\n",
    "    count +=1    \n",
    "    print('match is available at start index :',match.start())\n",
    "\n",
    "print('the number of occurence ',count)    \n"
   ]
  },
  {
   "cell_type": "code",
   "execution_count": null,
   "metadata": {},
   "outputs": [
    {
     "name": "stdout",
     "output_type": "stream",
     "text": [
      "start:0,end:7,group:welcome\n",
      "start:34,end:41,group:welcome\n",
      "the number of occurrence: 2\n"
     ]
    }
   ],
   "source": [
    "import re \n",
    "count = 0\n",
    "pattern = re.compile('welcome')\n",
    "matcher = pattern.finditer('welcome to the python programming,welcome to the reguler expression concepts')\n",
    "for m in matcher:\n",
    "    count = count+1\n",
    "    print('start:{},end:{},group:{}'.format(m.start(),m.end(),m.group()))\n",
    "print('the number of occurrence:',count)"
   ]
  },
  {
   "cell_type": "code",
   "execution_count": null,
   "metadata": {},
   "outputs": [
    {
     "name": "stdout",
     "output_type": "stream",
     "text": [
      "start:0,end:7,group:welcome\n",
      "start:25,end:32,group:welcome\n",
      "the number of occurrence : 1\n"
     ]
    }
   ],
   "source": [
    "import re \n",
    "count = 0\n",
    "matcher = re.finditer('welcome','welcome to the regex and welcome once again')\n",
    "for m in matcher:\n",
    "    count=+1\n",
    "    print('start:{},end:{},group:{}'.format(m.start(),m.end(),m.group()))\n",
    "print('the number of occurrence :',count)    \n"
   ]
  },
  {
   "cell_type": "code",
   "execution_count": null,
   "metadata": {},
   "outputs": [],
   "source": [
    "Charecter clasess\n",
    "[abc] ==either a or b or c \n",
    "[^abc]==>Except abc \n",
    "[a-z]===>Anny lowe case alphabets \n",
    "[A-Z] ==>Any uppecase alphabets \n",
    "[a-zA-Z] ==>Any alphabts symbol\n",
    "[a-zA-Z0-9] ==> alphanearic\n",
    "[0-9] Any number \n",
    "[^a-zA-Z0-9] ==>excepts this "
   ]
  },
  {
   "cell_type": "code",
   "execution_count": null,
   "metadata": {},
   "outputs": [
    {
     "name": "stdout",
     "output_type": "stream",
     "text": [
      "3 ----- x\n"
     ]
    }
   ],
   "source": [
    "import re \n",
    "matcher = re.finditer('x','abtxbgd@7A')\n",
    "for m in matcher:\n",
    "    print(m.start(),'-----',m.group())"
   ]
  },
  {
   "cell_type": "code",
   "execution_count": null,
   "metadata": {},
   "outputs": [
    {
     "name": "stdout",
     "output_type": "stream",
     "text": [
      "0 ----- a\n",
      "1 ----- b\n",
      "2 ----- c\n",
      "5 ----- b\n"
     ]
    }
   ],
   "source": [
    "#match abc latters \n",
    "import re \n",
    "matcher = re.finditer('[abc]','abctxbgd@7A')\n",
    "for m in matcher:\n",
    "    print(m.start(),'-----',m.group())\n",
    "\n",
    " "
   ]
  },
  {
   "cell_type": "code",
   "execution_count": null,
   "metadata": {},
   "outputs": [
    {
     "name": "stdout",
     "output_type": "stream",
     "text": [
      "8 ----- @\n",
      "9 ----- 7\n"
     ]
    }
   ],
   "source": [
    "#match except '[^a-zA-Z] latters \n",
    "import re \n",
    "matcher = re.finditer('[^a-zA-Z]','abctxbgd@7A')\n",
    "for m in matcher:\n",
    "    print(m.start(),'-----',m.group())"
   ]
  },
  {
   "cell_type": "code",
   "execution_count": null,
   "metadata": {},
   "outputs": [
    {
     "name": "stdout",
     "output_type": "stream",
     "text": [
      "8 ----- @\n"
     ]
    }
   ],
   "source": [
    "import re \n",
    "matcher = re.finditer('[^a-zA-Z0-9]','abctxbgd@7A')\n",
    "for m in matcher:\n",
    "    print(m.start(),'-----',m.group())"
   ]
  },
  {
   "cell_type": "code",
   "execution_count": null,
   "metadata": {},
   "outputs": [
    {
     "name": "stdout",
     "output_type": "stream",
     "text": [
      "start:0,end:1,group:w\n"
     ]
    }
   ],
   "source": [
    "import re \n",
    "search = re.finditer('w','welcome')\n",
    "for m in search:\n",
    "        print('start:{},end:{},group:{}'.format(m.start(),m.end(),m.group()))\n"
   ]
  },
  {
   "cell_type": "code",
   "execution_count": null,
   "metadata": {},
   "outputs": [],
   "source": [
    "#predfine character clases\n",
    "# \\s ---space character \n",
    "# \\S ---Except space charater  \n",
    "#\\d--[0-9]-- searching for any digit \n",
    "#\\ D ---except digits \n",
    "#\\w --any word charecter (alpaha numaric charecter)[a-zA-Z0-9]\n",
    "#\\W--An character except word (special character )[^a-zA-Z0-9]\n",
    "#. any character "
   ]
  },
  {
   "cell_type": "code",
   "execution_count": null,
   "metadata": {},
   "outputs": [
    {
     "name": "stdout",
     "output_type": "stream",
     "text": [
      "36 =======  \n",
      "37 =======  \n"
     ]
    }
   ],
   "source": [
    "#check the speces\n",
    "import re \n",
    "item = re.finditer('\\s','welcomeAb@@@^^^^101\\\\\\\\.\\\\\\welcome---__  ')\n",
    "for i in item:\n",
    "    print(i.start(),'=======',i.group())"
   ]
  },
  {
   "cell_type": "code",
   "execution_count": null,
   "metadata": {},
   "outputs": [
    {
     "name": "stdout",
     "output_type": "stream",
     "text": [
      "0 ======= w\n",
      "1 ======= e\n",
      "2 ======= l\n",
      "3 ======= c\n",
      "4 ======= o\n",
      "5 ======= m\n",
      "6 ======= e\n",
      "7 ======= A\n",
      "8 ======= b\n",
      "9 ======= @\n",
      "10 ======= @\n",
      "11 ======= @\n",
      "12 ======= ^\n",
      "13 ======= ^\n",
      "14 ======= ^\n",
      "15 ======= ^\n",
      "16 ======= 1\n",
      "17 ======= 0\n",
      "18 ======= 1\n",
      "19 ======= \\\n",
      "20 ======= \\\n",
      "21 ======= .\n",
      "22 ======= \\\n",
      "23 ======= \\\n",
      "24 ======= w\n",
      "25 ======= e\n",
      "26 ======= l\n",
      "27 ======= c\n",
      "28 ======= o\n",
      "29 ======= m\n",
      "30 ======= e\n",
      "31 ======= -\n",
      "32 ======= -\n",
      "33 ======= -\n",
      "34 ======= _\n",
      "35 ======= _\n"
     ]
    }
   ],
   "source": [
    "#check the except speces character \n",
    "import re \n",
    "item = re.finditer('\\S','welcomeAb@@@^^^^101\\\\\\\\.\\\\\\welcome---__  ')\n",
    "for i in item:\n",
    "    print(i.start(),'=======',i.group())"
   ]
  },
  {
   "cell_type": "code",
   "execution_count": null,
   "metadata": {},
   "outputs": [
    {
     "name": "stdout",
     "output_type": "stream",
     "text": [
      "16 ======= 1\n",
      "17 ======= 0\n",
      "18 ======= 1\n"
     ]
    }
   ],
   "source": [
    "#check the searching for any digit   character \n",
    "import re \n",
    "item = re.finditer('\\d','welcomeAb@@@^^^^101\\\\\\\\.\\\\\\welcome---__  ')\n",
    "for i in item:\n",
    "    print(i.start(),'=======',i.group())"
   ]
  },
  {
   "cell_type": "code",
   "execution_count": null,
   "metadata": {},
   "outputs": [
    {
     "name": "stdout",
     "output_type": "stream",
     "text": [
      "0 ======= w\n",
      "1 ======= e\n",
      "2 ======= l\n",
      "3 ======= c\n",
      "4 ======= o\n",
      "5 ======= m\n",
      "6 ======= e\n",
      "7 ======= A\n",
      "8 ======= b\n",
      "9 ======= @\n",
      "10 ======= @\n",
      "11 ======= @\n",
      "12 ======= ^\n",
      "13 ======= ^\n",
      "14 ======= ^\n",
      "15 ======= ^\n",
      "19 ======= \\\n",
      "20 ======= \\\n",
      "21 ======= .\n",
      "22 ======= \\\n",
      "23 ======= \\\n",
      "24 ======= w\n",
      "25 ======= e\n",
      "26 ======= l\n",
      "27 ======= c\n",
      "28 ======= o\n",
      "29 ======= m\n",
      "30 ======= e\n",
      "31 ======= -\n",
      "32 ======= -\n",
      "33 ======= -\n",
      "34 ======= _\n",
      "35 ======= _\n",
      "36 =======  \n",
      "37 =======  \n"
     ]
    }
   ],
   "source": [
    "#check the searching for except any  digit   character \n",
    "import re \n",
    "item = re.finditer('\\D','welcomeAb@@@^^^^101\\\\\\\\.\\\\\\welcome---__  ')\n",
    "for i in item:\n",
    "    print(i.start(),'=======',i.group())"
   ]
  },
  {
   "cell_type": "code",
   "execution_count": null,
   "metadata": {},
   "outputs": [
    {
     "name": "stdout",
     "output_type": "stream",
     "text": [
      "0 ======= w\n",
      "1 ======= e\n",
      "2 ======= l\n",
      "3 ======= c\n",
      "4 ======= o\n",
      "5 ======= m\n",
      "6 ======= e\n",
      "7 ======= A\n",
      "8 ======= b\n",
      "16 ======= 1\n",
      "17 ======= 0\n",
      "18 ======= 1\n",
      "24 ======= w\n",
      "25 ======= e\n",
      "26 ======= l\n",
      "27 ======= c\n",
      "28 ======= o\n",
      "29 ======= m\n",
      "30 ======= e\n",
      "34 ======= _\n",
      "35 ======= _\n"
     ]
    }
   ],
   "source": [
    "#alpaha numeric character \n",
    "import re \n",
    "item = re.finditer('\\w','welcomeAb@@@^^^^101\\\\\\\\.\\\\\\welcome---__  ')\n",
    "for i in item:\n",
    "    print(i.start(),'=======',i.group())"
   ]
  },
  {
   "cell_type": "code",
   "execution_count": null,
   "metadata": {},
   "outputs": [
    {
     "name": "stdout",
     "output_type": "stream",
     "text": [
      "9 ======= @\n",
      "10 ======= @\n",
      "11 ======= @\n",
      "12 ======= ^\n",
      "13 ======= ^\n",
      "14 ======= ^\n",
      "15 ======= ^\n",
      "19 ======= \\\n",
      "20 ======= \\\n",
      "21 ======= .\n",
      "22 ======= \\\n",
      "23 ======= \\\n",
      "31 ======= -\n",
      "32 ======= -\n",
      "33 ======= -\n",
      "36 =======  \n",
      "37 =======  \n"
     ]
    }
   ],
   "source": [
    "#except alaha numeric caharater  special character \n",
    "\n",
    "import re \n",
    "item = re.finditer('\\W','welcomeAb@@@^^^^101\\\\\\\\.\\\\\\welcome---__  ')\n",
    "for i in item:\n",
    "    print(i.start(),'=======',i.group())"
   ]
  },
  {
   "cell_type": "code",
   "execution_count": null,
   "metadata": {},
   "outputs": [
    {
     "name": "stdout",
     "output_type": "stream",
     "text": [
      "21 ======= .\n"
     ]
    }
   ],
   "source": [
    "#except any caharater  special character \n",
    "\n",
    "import re \n",
    "item = re.finditer('\\.','welcomeAb@@@^^^^101\\\\\\\\.\\\\\\welcome---__  ')\n",
    "for i in item:\n",
    "    print(i.start(),'=======',i.group())"
   ]
  },
  {
   "cell_type": "code",
   "execution_count": null,
   "metadata": {},
   "outputs": [
    {
     "name": "stdout",
     "output_type": "stream",
     "text": [
      "0 ======= a\n",
      "11 ======= a\n",
      "13 ======= aa\n"
     ]
    }
   ],
   "source": [
    "#Quantifiers \n",
    "#a+ atleat one a match \n",
    "import re \n",
    "mr = re.finditer('a+','abcdefghijkabaa')\n",
    "for i in mr:\n",
    "    print(i.start(),'=======',i.group())\n"
   ]
  },
  {
   "cell_type": "code",
   "execution_count": null,
   "metadata": {},
   "outputs": [
    {
     "name": "stdout",
     "output_type": "stream",
     "text": [
      "0 ======= a\n",
      "1 ======= \n",
      "2 ======= \n",
      "3 ======= \n",
      "4 ======= \n",
      "5 ======= \n",
      "6 ======= \n",
      "7 ======= \n",
      "8 ======= \n",
      "9 ======= \n",
      "10 ======= \n",
      "11 ======= a\n",
      "12 ======= \n",
      "13 ======= aa\n",
      "15 ======= \n"
     ]
    }
   ],
   "source": [
    "import re \n",
    "#a* any number of a include in aentance \n",
    "mr = re.finditer('a*','abcdefghijkabaa')\n",
    "for i in mr:\n",
    "    print(i.start(),'=======',i.group())"
   ]
  },
  {
   "cell_type": "code",
   "execution_count": null,
   "metadata": {},
   "outputs": [
    {
     "name": "stdout",
     "output_type": "stream",
     "text": [
      "0 ======= a\n",
      "1 ======= \n",
      "2 ======= \n",
      "3 ======= \n",
      "4 ======= \n",
      "5 ======= \n",
      "6 ======= \n",
      "7 ======= \n",
      "8 ======= \n",
      "9 ======= \n",
      "10 ======= \n",
      "11 ======= a\n",
      "12 ======= \n",
      "13 ======= a\n",
      "14 ======= a\n",
      "15 ======= \n"
     ]
    }
   ],
   "source": [
    "import re \n",
    "#a? atmost a \n",
    "mr = re.finditer('a?','abcdefghijkabaa')\n",
    "for i in mr:\n",
    "    print(i.start(),'=======',i.group())"
   ]
  },
  {
   "cell_type": "code",
   "execution_count": null,
   "metadata": {},
   "outputs": [
    {
     "name": "stdout",
     "output_type": "stream",
     "text": [
      "13 ======= aa\n"
     ]
    }
   ],
   "source": [
    "import re \n",
    "#a* any number of a include in aentance \n",
    "mr = re.finditer('a{2}','abcdefghijkabaa')\n",
    "for i in mr:\n",
    "    print(i.start(),'=======',i.group())"
   ]
  },
  {
   "cell_type": "code",
   "execution_count": null,
   "metadata": {},
   "outputs": [
    {
     "name": "stdout",
     "output_type": "stream",
     "text": [
      "13 ======= aaaaa\n",
      "18 ======= aa\n"
     ]
    }
   ],
   "source": [
    "# a{m,n} m numer of a and min n number of a \n",
    "import re \n",
    "#a* any number of a include in aentance \n",
    "mr = re.finditer('a{2,5}','abcdefghijkabaaaaaaa')\n",
    "for i in mr:\n",
    "    print(i.start(),'=======',i.group())"
   ]
  },
  {
   "cell_type": "code",
   "execution_count": null,
   "metadata": {},
   "outputs": [
    {
     "name": "stdout",
     "output_type": "stream",
     "text": [
      "0 ======= a\n"
     ]
    }
   ],
   "source": [
    "# [^a] ---expet a \n",
    "# ^a string started with a or not \n",
    "# a$ string end with a or nor \n",
    "\n",
    "import re \n",
    "#a* any number of a include in aentance \n",
    "mr = re.finditer('^a','abcdefghijkabaaaaaaa')\n",
    "for i in mr:\n",
    "    print(i.start(),'=======',i.group())"
   ]
  },
  {
   "cell_type": "code",
   "execution_count": null,
   "metadata": {},
   "outputs": [
    {
     "name": "stdout",
     "output_type": "stream",
     "text": [
      "19 ======= a\n"
     ]
    }
   ],
   "source": [
    "import re \n",
    "#a* any number of a include in aentance \n",
    "mr = re.finditer('a$','abcdefghijkabaaaaaaa')\n",
    "for i in mr:\n",
    "    print(i.start(),'=======',i.group())"
   ]
  },
  {
   "cell_type": "code",
   "execution_count": null,
   "metadata": {},
   "outputs": [],
   "source": [
    "# some impartant re  \n",
    "# match()\n",
    "# fullmatch()\n",
    "# search()\n",
    "# finditer()\n",
    "# findall()\n",
    "# sub()\n",
    "# subn()\n",
    "# split()\n",
    "# compile()\n"
   ]
  },
  {
   "cell_type": "code",
   "execution_count": 49,
   "metadata": {},
   "outputs": [
    {
     "name": "stdout",
     "output_type": "stream",
     "text": [
      "no\n"
     ]
    }
   ],
   "source": [
    "#match() \n",
    "# this funtion is used for begining of the target string then return match object \n",
    "import re \n",
    "matcher  = input(\"enter the pattern to check\")\n",
    "m = re.match(matcher,'ab')\n",
    "if m!=None:\n",
    "    print('the match is availbale ')\n",
    "else:\n",
    "    print('no')    "
   ]
  },
  {
   "cell_type": "code",
   "execution_count": 57,
   "metadata": {},
   "outputs": [
    {
     "name": "stdout",
     "output_type": "stream",
     "text": [
      "matche is  availble \n",
      "0,2\n"
     ]
    }
   ],
   "source": [
    "import re \n",
    "matcher = 'ab'\n",
    "m= re.match(matcher,'abcd')\n",
    "if m!=None:\n",
    "    print('matche is  availble ')\n",
    "    print('{},{}'.format(m.start(),m.end()))\n",
    "else:\n",
    "    print('match is not not availble ')    "
   ]
  },
  {
   "cell_type": "code",
   "execution_count": 59,
   "metadata": {},
   "outputs": [
    {
     "name": "stdout",
     "output_type": "stream",
     "text": [
      "matche is  availble \n",
      "0,4\n"
     ]
    }
   ],
   "source": [
    "import re \n",
    "matcher = 'abcd'\n",
    "m= re.fullmatch(matcher,'abcd')\n",
    "if m!=None:\n",
    "    print('matche is  availble ')\n",
    "    print('{},{}'.format(m.start(),m.end()))\n",
    "else:\n",
    "    print('match is not not availble ')  "
   ]
  },
  {
   "cell_type": "code",
   "execution_count": 61,
   "metadata": {},
   "outputs": [
    {
     "name": "stdout",
     "output_type": "stream",
     "text": [
      "match is not not availble \n"
     ]
    }
   ],
   "source": [
    "import re \n",
    "matcher = 'abcd'\n",
    "m= re.search(matcher,'ab')\n",
    "if m!=None:\n",
    "    print('matche is  availble ')\n",
    "    print('{},{}'.format(m.start(),m.end()))\n",
    "else:\n",
    "    print('match is not not availble ')"
   ]
  },
  {
   "cell_type": "code",
   "execution_count": 62,
   "metadata": {},
   "outputs": [
    {
     "name": "stdout",
     "output_type": "stream",
     "text": [
      "matche is  availble \n"
     ]
    },
    {
     "ename": "AttributeError",
     "evalue": "'list' object has no attribute 'start'",
     "output_type": "error",
     "traceback": [
      "\u001b[1;31m---------------------------------------------------------------------------\u001b[0m",
      "\u001b[1;31mAttributeError\u001b[0m                            Traceback (most recent call last)",
      "\u001b[1;32m<ipython-input-62-5d66e3f36783>\u001b[0m in \u001b[0;36m<module>\u001b[1;34m\u001b[0m\n\u001b[0;32m      4\u001b[0m \u001b[1;32mif\u001b[0m \u001b[0mm\u001b[0m\u001b[1;33m!=\u001b[0m\u001b[1;32mNone\u001b[0m\u001b[1;33m:\u001b[0m\u001b[1;33m\u001b[0m\u001b[1;33m\u001b[0m\u001b[0m\n\u001b[0;32m      5\u001b[0m     \u001b[0mprint\u001b[0m\u001b[1;33m(\u001b[0m\u001b[1;34m'matche is  availble '\u001b[0m\u001b[1;33m)\u001b[0m\u001b[1;33m\u001b[0m\u001b[1;33m\u001b[0m\u001b[0m\n\u001b[1;32m----> 6\u001b[1;33m     \u001b[0mprint\u001b[0m\u001b[1;33m(\u001b[0m\u001b[1;34m'{},{}'\u001b[0m\u001b[1;33m.\u001b[0m\u001b[0mformat\u001b[0m\u001b[1;33m(\u001b[0m\u001b[0mm\u001b[0m\u001b[1;33m.\u001b[0m\u001b[0mstart\u001b[0m\u001b[1;33m(\u001b[0m\u001b[1;33m)\u001b[0m\u001b[1;33m,\u001b[0m\u001b[0mm\u001b[0m\u001b[1;33m.\u001b[0m\u001b[0mend\u001b[0m\u001b[1;33m(\u001b[0m\u001b[1;33m)\u001b[0m\u001b[1;33m)\u001b[0m\u001b[1;33m)\u001b[0m\u001b[1;33m\u001b[0m\u001b[1;33m\u001b[0m\u001b[0m\n\u001b[0m\u001b[0;32m      7\u001b[0m \u001b[1;32melse\u001b[0m\u001b[1;33m:\u001b[0m\u001b[1;33m\u001b[0m\u001b[1;33m\u001b[0m\u001b[0m\n\u001b[0;32m      8\u001b[0m     \u001b[0mprint\u001b[0m\u001b[1;33m(\u001b[0m\u001b[1;34m'match is not not availble '\u001b[0m\u001b[1;33m)\u001b[0m\u001b[1;33m\u001b[0m\u001b[1;33m\u001b[0m\u001b[0m\n",
      "\u001b[1;31mAttributeError\u001b[0m: 'list' object has no attribute 'start'"
     ]
    }
   ],
   "source": [
    "import re \n",
    "matcher = 'abcd'\n",
    "m= re.findall(matcher,'ab')\n",
    "if m!=None:\n",
    "    print('matche is  availble ')\n",
    "    print('{},{}'.format(m.start(),m.end()))\n",
    "else:\n",
    "    print('match is not not availble ')"
   ]
  },
  {
   "cell_type": "code",
   "execution_count": 63,
   "metadata": {},
   "outputs": [
    {
     "name": "stdout",
     "output_type": "stream",
     "text": [
      "['7', '6', '5']\n"
     ]
    }
   ],
   "source": [
    "import re \n",
    "l   = re.findall('[0-9]','a765ghty')\n",
    "print(l)"
   ]
  },
  {
   "cell_type": "code",
   "execution_count": 2,
   "metadata": {},
   "outputs": [
    {
     "name": "stdout",
     "output_type": "stream",
     "text": [
      "a#yrht###mnfg###hjf##fhfn\n"
     ]
    }
   ],
   "source": [
    "# sub()\n",
    "# substitution an replacement\n",
    "# re.sub(regex,replacement,targetstring)\n",
    "\n",
    "import re \n",
    "s = re.sub('\\d','#','a7yrht590mnfg127hjf85fhfn')\n",
    "print(s)"
   ]
  },
  {
   "cell_type": "code",
   "execution_count": 9,
   "metadata": {},
   "outputs": [
    {
     "name": "stdout",
     "output_type": "stream",
     "text": [
      "a#yrht###mnfg###hjf##fhfn\n",
      "['10201', '2012020', '2021520', '20125202', '30210250']\n",
      "['10201', '2012020', '2021520-20125202-30210250']\n",
      "['10201', '2012020', '2021520-20125202-30210250']\n",
      "['10201', '2012020', '2021520-20125202-30210250']\n",
      "['10201', '2012020', '2021520-20125202-30210250']\n"
     ]
    }
   ],
   "source": [
    "# re.subn(regex,replcement,tsrgetstring)\n",
    "import re \n",
    "s = re.sub('\\d','#','a7yrht590mnfg127hjf85fhfn')\n",
    "print(s)\n",
    "l =re.split('-','10201-2012020-2021520-20125202-30210250')\n",
    "print(l)\n",
    "l1 =re.sp  lit('\\.','10201.2012020.2021520-20125202-30210250')\n",
    "print(l1)\n",
    "for x in l1:\n",
    "    print(l1)\n",
    "\n"
   ]
  },
  {
   "cell_type": "code",
   "execution_count": null,
   "metadata": {},
   "outputs": [],
   "source": []
  }
 ],
 "metadata": {
  "kernelspec": {
   "display_name": "base",
   "language": "python",
   "name": "python3"
  },
  "language_info": {
   "codemirror_mode": {
    "name": "ipython",
    "version": 3
   },
   "file_extension": ".py",
   "mimetype": "text/x-python",
   "name": "python",
   "nbconvert_exporter": "python",
   "pygments_lexer": "ipython3",
   "version": "3.8.8"
  }
 },
 "nbformat": 4,
 "nbformat_minor": 2
}
