{
 "cells": [
  {
   "cell_type": "code",
   "execution_count": 2,
   "metadata": {},
   "outputs": [
    {
     "name": "stdout",
     "output_type": "stream",
     "text": [
      "welcome\n"
     ]
    }
   ],
   "source": [
    "Regular Expressions:\n"
   ]
  },
  {
   "cell_type": "code",
   "execution_count": 4,
   "metadata": {},
   "outputs": [],
   "source": [
    "# If we want to represent a group of strings according to certain pattern there regular expression module comes in piture "
   ]
  },
  {
   "cell_type": "code",
   "execution_count": 5,
   "metadata": {},
   "outputs": [],
   "source": [
    "#the group mof things follows the perticular pattern  then we go for regular expression \n",
    "# its declarative mechanisim in perticular patten \n",
    "# "
   ]
  },
  {
   "cell_type": "code",
   "execution_count": 9,
   "metadata": {},
   "outputs": [],
   "source": [
    "# What are the ge areas used in reg\n",
    "#main impartent application of Regular Expressions \n",
    "# 1) Validation\n",
    "# 2) Pttern matching application \n",
    "# 3) Translater like compilers ,interpreaters ,assembers \n",
    "#         Lexical Analysis Syntax analysis or scaning or tokenisation \n",
    "#         syntax analsis semantic analysis\n",
    "# 4) Communication protocals TCP/IP ETC\n",
    "\n",
    "\n"
   ]
  },
  {
   "cell_type": "code",
   "execution_count": 8,
   "metadata": {},
   "outputs": [
    {
     "name": "stdout",
     "output_type": "stream",
     "text": [
      "re.compile('python')\n"
     ]
    }
   ],
   "source": [
    "import re \n",
    "pattern   = re.compile(\"python\")\n",
    "print(pattern)"
   ]
  },
  {
   "cell_type": "code",
   "execution_count": 10,
   "metadata": {},
   "outputs": [],
   "source": [
    "#finditer()# to find matches \n",
    "matcher = pattern.finditer('learning regular expression ')\n",
    "# start()#start index of match\n",
    "# end() #end+1 index of match \n",
    "# group()#return the matched string\n",
    "#compile\n",
    "# finditer\n",
    "#start()\n",
    "#end()\n",
    "#group()\n"
   ]
  },
  {
   "cell_type": "code",
   "execution_count": 12,
   "metadata": {},
   "outputs": [
    {
     "name": "stdout",
     "output_type": "stream",
     "text": [
      "match is available at start index : 0\n",
      "match is available at start index : 3\n",
      "match is available at start index : 9\n",
      "match is available at start index : 11\n",
      "match is available at start index : 20\n",
      "the number of occurence  5\n"
     ]
    }
   ],
   "source": [
    "import re \n",
    "count  = 0\n",
    "pattern= re.compile('ab')\n",
    "matcher = pattern.finditer('abnabnhdgababkijanhbab')\n",
    "for match in matcher:\n",
    "    count+=1\n",
    "    print('match is available at start index :',match.start())\n",
    "print('the number of occurence ',count)    \n"
   ]
  },
  {
   "cell_type": "code",
   "execution_count": 4,
   "metadata": {},
   "outputs": [
    {
     "name": "stdout",
     "output_type": "stream",
     "text": [
      "match is available at start index : 0\n",
      "the number of occurence  1\n"
     ]
    }
   ],
   "source": [
    "import re \n",
    "count = 0\n",
    "pattern = re.compile('welcome')\n",
    "matcher = pattern.finditer('welcome to the world of programming')\n",
    "for match in matcher:\n",
    "    count +=1    \n",
    "    print('match is available at start index :',match.start())\n",
    "\n",
    "print('the number of occurence ',count)    \n"
   ]
  },
  {
   "cell_type": "code",
   "execution_count": 10,
   "metadata": {},
   "outputs": [
    {
     "name": "stdout",
     "output_type": "stream",
     "text": [
      "start:0,end:7,group:welcome\n",
      "start:34,end:41,group:welcome\n",
      "the number of occurrence: 2\n"
     ]
    }
   ],
   "source": [
    "import re \n",
    "count = 0\n",
    "pattern = re.compile('welcome')\n",
    "matcher = pattern.finditer('welcome to the python programming,welcome to the reguler expression concepts')\n",
    "for m in matcher:\n",
    "    count = count+1\n",
    "    print('start:{},end:{},group:{}'.format(m.start(),m.end(),m.group()))\n",
    "print('the number of occurrence:',count)"
   ]
  },
  {
   "cell_type": "code",
   "execution_count": 11,
   "metadata": {},
   "outputs": [
    {
     "name": "stdout",
     "output_type": "stream",
     "text": [
      "start:0,end:7,group:welcome\n",
      "start:25,end:32,group:welcome\n",
      "the number of occurrence : 1\n"
     ]
    }
   ],
   "source": [
    "import re \n",
    "count = 0\n",
    "matcher = re.finditer('welcome','welcome to the regex and welcome once again')\n",
    "for m in matcher:\n",
    "    count=+1\n",
    "    print('start:{},end:{},group:{}'.format(m.start(),m.end(),m.group()))\n",
    "print('the number of occurrence :',count)    \n"
   ]
  },
  {
   "cell_type": "code",
   "execution_count": 12,
   "metadata": {},
   "outputs": [],
   "source": [
    "Charecter clasess\n",
    "[abc] ==either a or b or c \n",
    "[^abc]==>Except abc \n",
    "[a-z]===>Anny lowe case alphabets \n",
    "[A-Z] ==>Any uppecase alphabets \n",
    "[a-zA-Z] ==>Any alphabts symbol\n",
    "[a-zA-Z0-9] ==> alphanearic\n",
    "[0-9] Any number \n",
    "[^a-zA-Z0-9] ==>excepts this "
   ]
  },
  {
   "cell_type": "code",
   "execution_count": 13,
   "metadata": {},
   "outputs": [
    {
     "name": "stdout",
     "output_type": "stream",
     "text": [
      "3 ----- x\n"
     ]
    }
   ],
   "source": [
    "import re \n",
    "matcher = re.finditer('x','abtxbgd@7A')\n",
    "for m in matcher:\n",
    "    print(m.start(),'-----',m.group())"
   ]
  },
  {
   "cell_type": "code",
   "execution_count": 14,
   "metadata": {},
   "outputs": [
    {
     "name": "stdout",
     "output_type": "stream",
     "text": [
      "0 ----- a\n",
      "1 ----- b\n",
      "2 ----- c\n",
      "5 ----- b\n"
     ]
    }
   ],
   "source": [
    "#match abc latters \n",
    "import re \n",
    "matcher = re.finditer('[abc]','abctxbgd@7A')\n",
    "for m in matcher:\n",
    "    print(m.start(),'-----',m.group())\n",
    "\n",
    " "
   ]
  },
  {
   "cell_type": "code",
   "execution_count": 17,
   "metadata": {},
   "outputs": [
    {
     "name": "stdout",
     "output_type": "stream",
     "text": [
      "8 ----- @\n",
      "9 ----- 7\n"
     ]
    }
   ],
   "source": [
    "#match except '[^a-zA-Z] latters \n",
    "import re \n",
    "matcher = re.finditer('[^a-zA-Z]','abctxbgd@7A')\n",
    "for m in matcher:\n",
    "    print(m.start(),'-----',m.group())"
   ]
  },
  {
   "cell_type": "code",
   "execution_count": 19,
   "metadata": {},
   "outputs": [
    {
     "name": "stdout",
     "output_type": "stream",
     "text": [
      "8 ----- @\n"
     ]
    }
   ],
   "source": [
    "import re \n",
    "matcher = re.finditer('[^a-zA-Z0-9]','abctxbgd@7A')\n",
    "for m in matcher:\n",
    "    print(m.start(),'-----',m.group())"
   ]
  },
  {
   "cell_type": "code",
   "execution_count": null,
   "metadata": {},
   "outputs": [],
   "source": []
  }
 ],
 "metadata": {
  "kernelspec": {
   "display_name": "base",
   "language": "python",
   "name": "python3"
  },
  "language_info": {
   "codemirror_mode": {
    "name": "ipython",
    "version": 3
   },
   "file_extension": ".py",
   "mimetype": "text/x-python",
   "name": "python",
   "nbconvert_exporter": "python",
   "pygments_lexer": "ipython3",
   "version": "3.8.8"
  }
 },
 "nbformat": 4,
 "nbformat_minor": 2
}
