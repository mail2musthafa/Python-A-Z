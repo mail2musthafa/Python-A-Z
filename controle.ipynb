{
 "cells": [
  {
   "cell_type": "code",
   "execution_count": 1,
   "metadata": {},
   "outputs": [
    {
     "name": "stdout",
     "output_type": "stream",
     "text": [
      "welcome\n"
     ]
    }
   ],
   "source": [
    "print('welcome')"
   ]
  },
  {
   "cell_type": "code",
   "execution_count": 4,
   "metadata": {},
   "outputs": [
    {
     "name": "stdout",
     "output_type": "stream",
     "text": [
      "wr\n"
     ]
    }
   ],
   "source": [
    "# if condtion:\n",
    "#     statement 1\n",
    "#     statement 2\n",
    "# staement outside the if block    \n",
    "\n",
    "if 3>22:\n",
    "    if 18<10:\n",
    "        print('welcome')\n",
    "    print('we')\n",
    "print('wr')\n"
   ]
  },
  {
   "cell_type": "code",
   "execution_count": 6,
   "metadata": {},
   "outputs": [
    {
     "name": "stdout",
     "output_type": "stream",
     "text": [
      "10 is less then of 20\n",
      "end of program\n"
     ]
    }
   ],
   "source": [
    "if 10<20:\n",
    "    print('10 is less then of 20')\n",
    "print('end of program')    "
   ]
  },
  {
   "cell_type": "code",
   "execution_count": 9,
   "metadata": {},
   "outputs": [
    {
     "name": "stdout",
     "output_type": "stream",
     "text": [
      "please enter valid customer details \n"
     ]
    }
   ],
   "source": [
    "name  = input('please enter the input ')\n",
    "if name =='musthafa':\n",
    "    print(f'welcome mr {name} how can i help you today')\n",
    "print('please enter valid customer details ')    \n"
   ]
  },
  {
   "cell_type": "code",
   "execution_count": 16,
   "metadata": {},
   "outputs": [
    {
     "name": "stdout",
     "output_type": "stream",
     "text": [
      "welcome maheen you are good to select product !\n",
      "please login for continue\n"
     ]
    }
   ],
   "source": [
    "id = input('please enter the customer name ')\n",
    "name = input('please enter the customer name ')\n",
    "if name in ['maheen','shadan','vivek']:\n",
    "    print(f'welcome {name} you are good to select product !')\n",
    "    if id == '10':\n",
    "        print(f\"hi you purchase successfully{id}\")\n",
    "else:    \n",
    "    print('please regiser your self for purchasing')   \n",
    "print('please login for continue')     "
   ]
  },
  {
   "cell_type": "code",
   "execution_count": 20,
   "metadata": {},
   "outputs": [
    {
     "name": "stdout",
     "output_type": "stream",
     "text": [
      "Hello gest please register your details in portel\n",
      "and  start browsing the portel \n",
      " ad\n"
     ]
    }
   ],
   "source": [
    "name = input('please enrer user name ')\n",
    "if name =='adam':\n",
    "    print(f\"hello mr {name} good evening\")\n",
    "else:\n",
    "    print('Hello gust please register your details in portel') \n",
    "print(f\"and  start browsing the portel \\n {name}\")       "
   ]
  },
  {
   "cell_type": "code",
   "execution_count": 24,
   "metadata": {},
   "outputs": [
    {
     "name": "stdout",
     "output_type": "stream",
     "text": [
      "enter the number is 0 is equal to 0 \n",
      "lets start once the number are matched \n"
     ]
    }
   ],
   "source": [
    "#if_elif_else\n",
    "number = int(input('please enter the number : \\n'))\n",
    "if number  >1:\n",
    "    print(f'the number you  entered is {number} is greater then 1 ')\n",
    "elif number ==0:\n",
    "    print(f'enter the number is {number} is equal to 0 ')\n",
    "elif number <0:\n",
    "    print(f'the entered numberes are {number} is less then 1')   \n",
    "else:\n",
    "    print('invalid  input please provide valid input') \n",
    "print('lets start once the number are matched ')        \n",
    " "
   ]
  },
  {
   "cell_type": "code",
   "execution_count": null,
   "metadata": {},
   "outputs": [],
   "source": []
  }
 ],
 "metadata": {
  "kernelspec": {
   "display_name": "base",
   "language": "python",
   "name": "python3"
  },
  "language_info": {
   "codemirror_mode": {
    "name": "ipython",
    "version": 3
   },
   "file_extension": ".py",
   "mimetype": "text/x-python",
   "name": "python",
   "nbconvert_exporter": "python",
   "pygments_lexer": "ipython3",
   "version": "3.8.8"
  }
 },
 "nbformat": 4,
 "nbformat_minor": 2
}
